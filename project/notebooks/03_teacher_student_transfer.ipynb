{
 "cells": [
  {
   "cell_type": "code",
   "execution_count": 36,
   "id": "54cc3ece-aedd-41af-97e1-7585b1cf420f",
   "metadata": {},
   "outputs": [
    {
     "data": {
      "text/plain": [
       "'Implement teacher-student knowledge distillation on the processed dataset.  \\n- Loads processed train/test split created by earlier notebooks.\\n- Trains a strong teacher (RandomForest & optional XGBoost ensemble).\\n- Generates soft labels (with temperature) from teacher.\\n- Trains a compact student model to mimic teacher soft targets.\\n- Evaluates and saves models + metrics.'"
      ]
     },
     "execution_count": 36,
     "metadata": {},
     "output_type": "execute_result"
    }
   ],
   "source": [
    "# 03_teacher_student_transfer.ipynb\n",
    "'''Implement teacher-student knowledge distillation on the processed dataset.  \n",
    "- Loads processed train/test split created by earlier notebooks.\n",
    "- Trains a strong teacher (RandomForest & optional XGBoost ensemble).\n",
    "- Generates soft labels (with temperature) from teacher.\n",
    "- Trains a compact student model to mimic teacher soft targets.\n",
    "- Evaluates and saves models + metrics.'''\n"
   ]
  },
  {
   "cell_type": "code",
   "execution_count": 37,
   "id": "4e521019-a31e-4957-b837-f9f5b70adaa9",
   "metadata": {},
   "outputs": [],
   "source": [
    "# Standard imports\n",
    "import os\n",
    "from pathlib import Path\n",
    "import warnings\n",
    "warnings.filterwarnings(\"ignore\")\n",
    "\n",
    "import time\n",
    "import json\n",
    "from pprint import pprint\n",
    "\n",
    "# Data science\n",
    "import numpy as np\n",
    "import pandas as pd\n",
    "\n",
    "# Sklearn & modeling\n",
    "from sklearn.ensemble import RandomForestClassifier\n",
    "from sklearn.linear_model import LogisticRegression\n",
    "from sklearn.model_selection import train_test_split\n",
    "from sklearn.preprocessing import LabelEncoder, StandardScaler\n",
    "from sklearn.metrics import accuracy_score, f1_score, classification_report, log_loss\n",
    "from sklearn.pipeline import Pipeline\n",
    "import joblib\n",
    "\n",
    "# Try to import XGBoost\n",
    "try:\n",
    "    import xgboost as xgb\n",
    "    XGBOOST_AVAILABLE = True\n",
    "except Exception:\n",
    "    XGBOOST_AVAILABLE = False\n",
    "\n",
    "# Try to import PyTorch for student model\n",
    "try:\n",
    "    import torch\n",
    "    import torch.nn as nn\n",
    "    import torch.optim as optim\n",
    "    TORCH_AVAILABLE = True\n",
    "except Exception:\n",
    "    TORCH_AVAILABLE = False\n",
    "\n",
    "# Repro\n",
    "RANDOM_SEED = 42\n",
    "np.random.seed(RANDOM_SEED)\n",
    "if TORCH_AVAILABLE:\n",
    "    torch.manual_seed(RANDOM_SEED)\n",
    "\n",
    "# Paths\n",
    "ROOT = Path.cwd()\n",
    "DATA_DIR = ROOT / \"data\"\n",
    "MODELS_DIR = ROOT / \"models\"\n",
    "REPORTS_DIR = ROOT / \"reports\"\n",
    "for d in (MODELS_DIR, REPORTS_DIR):\n",
    "    d.mkdir(parents=True, exist_ok=True)\n"
   ]
  },
  {
   "cell_type": "code",
   "execution_count": 38,
   "id": "4ae32919-6cf9-42ee-9db0-0359f170d9a8",
   "metadata": {},
   "outputs": [],
   "source": [
    "#Utilities\n",
    "def load_splits():\n",
    "    X_train = pd.read_csv(DATA_DIR / \"X_train.csv\")\n",
    "    X_test  = pd.read_csv(DATA_DIR / \"X_test.csv\")\n",
    "    y_train = pd.read_csv(DATA_DIR / \"y_train.csv\").squeeze()\n",
    "    y_test  = pd.read_csv(DATA_DIR / \"y_test.csv\").squeeze()\n",
    "    return X_train, X_test, y_train, y_test\n",
    "\n",
    "def save_joblib(obj, path):\n",
    "    path.parent.mkdir(parents=True, exist_ok=True)\n",
    "    joblib.dump(obj, path)\n",
    "    print(f\"Saved: {path}\")\n",
    "\n",
    "def save_json(obj, path):\n",
    "    path.parent.mkdir(parents=True, exist_ok=True)\n",
    "    with open(path, \"w\") as f:\n",
    "        json.dump(obj, f, indent=2)\n",
    "    print(f\"Saved: {path}\")\n",
    "\n",
    "def ensure_numpy(arr):\n",
    "    if isinstance(arr, pd.Series) or isinstance(arr, pd.DataFrame):\n",
    "        return arr.values\n",
    "    return np.asarray(arr)\n",
    "\n",
    "timestamp = time.strftime(\"%Y%m%d_%H%M%S\")\n"
   ]
  },
  {
   "cell_type": "code",
   "execution_count": 39,
   "id": "b9e6a619-ee23-4884-8be7-614d59ac4a53",
   "metadata": {},
   "outputs": [
    {
     "name": "stdout",
     "output_type": "stream",
     "text": [
      "Shapes: (1158, 54) (290, 54) (1158,) (290,)\n",
      "Saved: C:\\Users\\alfiy\\ByteBuzz\\Notebooks\\models\\label_encoder_20251017_231950.joblib\n",
      "Classes (n=2): [0 1]\n"
     ]
    }
   ],
   "source": [
    "#Load data & label encode\n",
    "X_train, X_test, y_train, y_test = load_splits()\n",
    "print(\"Shapes:\", X_train.shape, X_test.shape, y_train.shape, y_test.shape)\n",
    "\n",
    "# Label encode\n",
    "le = LabelEncoder()\n",
    "y_train_enc = le.fit_transform(y_train)\n",
    "y_test_enc  = le.transform(y_test)\n",
    "save_joblib(le, MODELS_DIR / f\"label_encoder_{timestamp}.joblib\")\n",
    "\n",
    "n_classes = len(le.classes_)\n",
    "print(\"Classes (n={}): {}\".format(n_classes, le.classes_))\n"
   ]
  },
  {
   "cell_type": "code",
   "execution_count": 40,
   "id": "a4b30454-eba9-47e7-8946-546a2a0fcb73",
   "metadata": {},
   "outputs": [
    {
     "name": "stdout",
     "output_type": "stream",
     "text": [
      "Saved: C:\\Users\\alfiy\\ByteBuzz\\Notebooks\\models\\scaler_20251017_231950.joblib\n",
      "Scaled shapes: (1158, 54) (290, 54)\n"
     ]
    }
   ],
   "source": [
    "# Scaling is useful for student neural net; teacher (tree-based) is fine without scaling,\n",
    "# but to keep consistency we scale for student training; we will feed raw X to teacher if desired.\n",
    "scaler = StandardScaler()\n",
    "X_train_scaled = pd.DataFrame(scaler.fit_transform(X_train), columns=X_train.columns, index=X_train.index)\n",
    "X_test_scaled  = pd.DataFrame(scaler.transform(X_test), columns=X_test.columns, index=X_test.index)\n",
    "save_joblib(scaler, MODELS_DIR / f\"scaler_{timestamp}.joblib\")\n",
    "\n",
    "print(\"Scaled shapes:\", X_train_scaled.shape, X_test_scaled.shape)\n"
   ]
  },
  {
   "cell_type": "code",
   "execution_count": 41,
   "id": "7dcd8eb2-f6de-4a55-8c30-da7afc209b13",
   "metadata": {},
   "outputs": [
    {
     "name": "stdout",
     "output_type": "stream",
     "text": [
      "Training RandomForest teacher...\n",
      "Saved: C:\\Users\\alfiy\\ByteBuzz\\Notebooks\\models\\teacher_rf_20251017_231950.joblib\n",
      "XGBoost not available — skipping.\n",
      "Teacher — accuracy: 0.7690, f1_macro: 0.4983\n"
     ]
    }
   ],
   "source": [
    "#Build & train teacher model\n",
    "# We'll train a strong teacher composed of a RandomForest and (optionally) XGBoost.\n",
    "# Final teacher prediction will be an average of predicted probabilities (soft ensemble).\n",
    "teacher_models = {}\n",
    "\n",
    "# RandomForest teacher\n",
    "rf = RandomForestClassifier(n_estimators=500, random_state=RANDOM_SEED, n_jobs=-1)\n",
    "print(\"Training RandomForest teacher...\")\n",
    "rf.fit(X_train, y_train_enc)   # tree-based: use raw features (no scaling)\n",
    "teacher_models['rf'] = rf\n",
    "save_joblib(rf, MODELS_DIR / f\"teacher_rf_{timestamp}.joblib\")\n",
    "\n",
    "# Optional XGBoost teacher\n",
    "if XGBOOST_AVAILABLE:\n",
    "    xgb_clf = xgb.XGBClassifier(n_estimators=300, use_label_encoder=False, eval_metric=\"logloss\", random_state=RANDOM_SEED, n_jobs=1)\n",
    "    print(\"Training XGBoost teacher...\")\n",
    "    xgb_clf.fit(X_train, y_train_enc)\n",
    "    teacher_models['xgb'] = xgb_clf\n",
    "    save_joblib(xgb_clf, MODELS_DIR / f\"teacher_xgb_{timestamp}.joblib\")\n",
    "else:\n",
    "    print(\"XGBoost not available — skipping.\")\n",
    "\n",
    "# Teacher predict_proba function (averaged)\n",
    "def teacher_predict_proba(X):\n",
    "    # X assumed to be raw (not scaled)\n",
    "    probs = []\n",
    "    for m in teacher_models.values():\n",
    "        probs.append(m.predict_proba(X))\n",
    "    avg = np.mean(probs, axis=0)\n",
    "    return avg\n",
    "\n",
    "# Evaluate teacher on test\n",
    "teacher_probs_test = teacher_predict_proba(X_test)\n",
    "teacher_preds_test = np.argmax(teacher_probs_test, axis=1)\n",
    "teacher_acc = accuracy_score(y_test_enc, teacher_preds_test)\n",
    "teacher_f1 = f1_score(y_test_enc, teacher_preds_test, average='macro')\n",
    "print(f\"Teacher — accuracy: {teacher_acc:.4f}, f1_macro: {teacher_f1:.4f}\")\n"
   ]
  },
  {
   "cell_type": "code",
   "execution_count": 42,
   "id": "29e93784-cd41-4963-9dfa-a0f8ffcf29e2",
   "metadata": {},
   "outputs": [
    {
     "name": "stdout",
     "output_type": "stream",
     "text": [
      "Soft targets sample (train):\n",
      "[[0.16579679 0.83420321]\n",
      " [0.26968623 0.73031377]\n",
      " [0.64022475 0.35977525]]\n"
     ]
    }
   ],
   "source": [
    "#create softlables\n",
    "def softmax_with_temp(logits, T=1.0):\n",
    "    # logits shape: (n_samples, n_classes)\n",
    "    ex = np.exp(logits / T - np.max(logits / T, axis=1, keepdims=True))\n",
    "    return ex / np.sum(ex, axis=1, keepdims=True)\n",
    "\n",
    "# For tree models, logits not directly available. We'll use predicted probabilities and adjust:\n",
    "# Convert probabilities into \"soft targets\" using temperature by raising probabilities to 1/T then re-normalizing.\n",
    "def soften_probs(probs, T=2.0):\n",
    "    # probs shape (n, c)\n",
    "    if T == 1.0:\n",
    "        return probs\n",
    "    powered = np.power(probs, 1.0 / T)\n",
    "    return powered / powered.sum(axis=1, keepdims=True)\n",
    "\n",
    "# Choose temperature\n",
    "TEMP = 2.0\n",
    "teacher_soft_train = soften_probs(teacher_predict_proba(X_train), T=TEMP)\n",
    "teacher_soft_test  = soften_probs(teacher_predict_proba(X_test), T=TEMP)\n",
    "\n",
    "# As a sanity check, the soft labels should be probability distributions\n",
    "print(\"Soft targets sample (train):\")\n",
    "print(teacher_soft_train[:3])\n"
   ]
  },
  {
   "cell_type": "code",
   "execution_count": 43,
   "id": "b6138c57-7210-4a5b-a0ab-d7a86a4bc803",
   "metadata": {},
   "outputs": [
    {
     "name": "stdout",
     "output_type": "stream",
     "text": [
      "Looking in indexes: https://download.pytorch.org/whl/cpu\n",
      "Requirement already satisfied: torch in d:\\anaconda1\\lib\\site-packages (2.9.0+cpu)\n",
      "Requirement already satisfied: torchvision in d:\\anaconda1\\lib\\site-packages (0.24.0+cpu)\n",
      "Requirement already satisfied: torchaudio in d:\\anaconda1\\lib\\site-packages (2.9.0+cpu)\n",
      "Requirement already satisfied: filelock in d:\\anaconda1\\lib\\site-packages (from torch) (3.13.1)\n",
      "Requirement already satisfied: typing-extensions>=4.10.0 in d:\\anaconda1\\lib\\site-packages (from torch) (4.11.0)\n",
      "Requirement already satisfied: sympy>=1.13.3 in d:\\anaconda1\\lib\\site-packages (from torch) (1.14.0)\n",
      "Requirement already satisfied: networkx>=2.5.1 in d:\\anaconda1\\lib\\site-packages (from torch) (3.2.1)\n",
      "Requirement already satisfied: jinja2 in d:\\anaconda1\\lib\\site-packages (from torch) (3.1.4)\n",
      "Requirement already satisfied: fsspec>=0.8.5 in d:\\anaconda1\\lib\\site-packages (from torch) (2024.3.1)\n",
      "Requirement already satisfied: setuptools in d:\\anaconda1\\lib\\site-packages (from torch) (69.5.1)\n",
      "Requirement already satisfied: numpy in d:\\anaconda1\\lib\\site-packages (from torchvision) (1.26.4)\n",
      "Requirement already satisfied: pillow!=8.3.*,>=5.3.0 in d:\\anaconda1\\lib\\site-packages (from torchvision) (10.3.0)\n",
      "Requirement already satisfied: mpmath<1.4,>=1.1.0 in d:\\anaconda1\\lib\\site-packages (from sympy>=1.13.3->torch) (1.3.0)\n",
      "Requirement already satisfied: MarkupSafe>=2.0 in d:\\anaconda1\\lib\\site-packages (from jinja2->torch) (2.1.3)\n"
     ]
    }
   ],
   "source": [
    "\n",
    "!pip install torch torchvision torchaudio --index-url https://download.pytorch.org/whl/cpu\n"
   ]
  },
  {
   "cell_type": "code",
   "execution_count": 44,
   "id": "9409893d-9754-45dc-82ab-3510419d8ab0",
   "metadata": {},
   "outputs": [
    {
     "name": "stdout",
     "output_type": "stream",
     "text": [
      "PyTorch is available! Version: 2.9.0+cpu\n"
     ]
    }
   ],
   "source": [
    "# Recheck PyTorch availability (rerun this if you just installed PyTorch)\n",
    "try:\n",
    "    import torch\n",
    "    import torch.nn as nn\n",
    "    import torch.optim as optim\n",
    "    TORCH_AVAILABLE = True\n",
    "    print(\"PyTorch is available! Version:\", torch.__version__)\n",
    "except Exception as e:\n",
    "    TORCH_AVAILABLE = False\n",
    "    print(\"PyTorch not available:\", e)\n"
   ]
  },
  {
   "cell_type": "code",
   "execution_count": 45,
   "id": "f9f05013-8722-403a-af32-de5dadccf03b",
   "metadata": {},
   "outputs": [
    {
     "name": "stdout",
     "output_type": "stream",
     "text": [
      "Torch available. Using device: cpu\n",
      "Training student (PyTorch MLP)...\n",
      "Epoch 1/80 — train_loss: 0.2825 — val_loss: 0.0950\n",
      "Epoch 10/80 — train_loss: 0.1576 — val_loss: 0.0633\n",
      "Epoch 20/80 — train_loss: 0.1302 — val_loss: 0.0674\n",
      "Epoch 30/80 — train_loss: 0.1092 — val_loss: 0.0800\n",
      "Epoch 40/80 — train_loss: 0.1018 — val_loss: 0.0859\n",
      "Epoch 50/80 — train_loss: 0.0870 — val_loss: 0.0859\n",
      "Epoch 60/80 — train_loss: 0.0843 — val_loss: 0.0847\n",
      "Epoch 70/80 — train_loss: 0.0765 — val_loss: 0.0845\n",
      "Epoch 80/80 — train_loss: 0.0732 — val_loss: 0.0846\n",
      "Saved student PyTorch model to: C:\\Users\\alfiy\\ByteBuzz\\Notebooks\\models\\student_mlp_20251017_231950.pt\n"
     ]
    }
   ],
   "source": [
    "#Student model: PyTorch MLP\n",
    "if TORCH_AVAILABLE:\n",
    "    device = torch.device(\"cuda\" if torch.cuda.is_available() else \"cpu\")\n",
    "    print(\"Torch available. Using device:\", device)\n",
    "\n",
    "    class StudentNet(nn.Module):\n",
    "        def __init__(self, n_features, n_classes, hidden_units=128, dropout=0.2):\n",
    "            super().__init__()\n",
    "            self.net = nn.Sequential(\n",
    "                nn.Linear(n_features, hidden_units),\n",
    "                nn.ReLU(),\n",
    "                nn.Dropout(dropout),\n",
    "                nn.Linear(hidden_units, max(32, hidden_units//4)),\n",
    "                nn.ReLU(),\n",
    "                nn.Dropout(dropout),\n",
    "                nn.Linear(max(32, hidden_units//4), n_classes),\n",
    "            )\n",
    "        def forward(self, x):\n",
    "            return self.net(x)\n",
    "\n",
    "    # Training function: minimize KL divergence between soft teacher probs and student outputs (with temp)\n",
    "    def train_student_torch(X_train_np, soft_targets, X_val_np, soft_val, n_epochs=60, batch_size=64, lr=1e-3, temp=TEMP):\n",
    "        X_tr_t = torch.tensor(X_train_np, dtype=torch.float32).to(device)\n",
    "        y_soft_t = torch.tensor(soft_targets, dtype=torch.float32).to(device)\n",
    "        X_val_t = torch.tensor(X_val_np, dtype=torch.float32).to(device)\n",
    "        y_soft_val = torch.tensor(soft_val, dtype=torch.float32).to(device)\n",
    "\n",
    "        model = StudentNet(n_features=X_train_np.shape[1], n_classes=soft_targets.shape[1]).to(device)\n",
    "        optimizer = optim.Adam(model.parameters(), lr=lr)\n",
    "        # Use KLDivLoss between log_softmax(student_logits/temp) and teacher_soft (already softened)\n",
    "        kl_loss = nn.KLDivLoss(reduction=\"batchmean\")\n",
    "        ce_loss = nn.CrossEntropyLoss()\n",
    "\n",
    "        # DataLoader style batching (simple)\n",
    "        n = X_train_np.shape[0]\n",
    "        idx = np.arange(n)\n",
    "\n",
    "        best_val_loss = float(\"inf\")\n",
    "        best_state = None\n",
    "        history = {\"train_loss\": [], \"val_loss\": []}\n",
    "\n",
    "        for epoch in range(1, n_epochs+1):\n",
    "            model.train()\n",
    "            np.random.shuffle(idx)\n",
    "            train_loss = 0.0\n",
    "            for i in range(0, n, batch_size):\n",
    "                batch_idx = idx[i:i+batch_size]\n",
    "                xb = X_tr_t[batch_idx]\n",
    "                yb_soft = y_soft_t[batch_idx]\n",
    "\n",
    "                logits = model(xb)  # shape (b, c)\n",
    "                # compute log-softmax with temperature\n",
    "                log_probs = nn.functional.log_softmax(logits / temp, dim=1)\n",
    "                loss_kl = kl_loss(log_probs, yb_soft)\n",
    "                # Optionally also add hard-label cross-entropy to stabilize (mixing)\n",
    "                hard_labels = torch.argmax(yb_soft, dim=1)\n",
    "                loss_ce = ce_loss(logits, hard_labels)\n",
    "                loss = 0.7 * loss_kl + 0.3 * loss_ce\n",
    "\n",
    "                optimizer.zero_grad()\n",
    "                loss.backward()\n",
    "                optimizer.step()\n",
    "                train_loss += loss.item() * xb.size(0)\n",
    "            train_loss /= n\n",
    "\n",
    "            # Validation\n",
    "            model.eval()\n",
    "            with torch.no_grad():\n",
    "                val_logits = model(X_val_t)\n",
    "                val_log_probs = nn.functional.log_softmax(val_logits / temp, dim=1)\n",
    "                val_loss = kl_loss(val_log_probs, y_soft_val).item()\n",
    "\n",
    "            history[\"train_loss\"].append(train_loss)\n",
    "            history[\"val_loss\"].append(val_loss)\n",
    "\n",
    "            # simple early stopping\n",
    "            if val_loss < best_val_loss:\n",
    "                best_val_loss = val_loss\n",
    "                best_state = {k: v.cpu() for k, v in model.state_dict().items()}\n",
    "\n",
    "            if epoch % 10 == 0 or epoch == 1:\n",
    "                print(f\"Epoch {epoch}/{n_epochs} — train_loss: {train_loss:.4f} — val_loss: {val_loss:.4f}\")\n",
    "\n",
    "        # load best state\n",
    "        model.load_state_dict(best_state)\n",
    "        return model, history\n",
    "\n",
    "    # Prepare student inputs: use scaled features\n",
    "    X_tr_np = X_train_scaled.values.astype(np.float32)\n",
    "    X_te_np = X_test_scaled.values.astype(np.float32)\n",
    "    # split training into train/val for student training\n",
    "    from sklearn.model_selection import train_test_split\n",
    "    X_s_tr, X_s_val, soft_tr, soft_val = train_test_split(X_tr_np, teacher_soft_train, test_size=0.15, random_state=RANDOM_SEED, stratify=y_train_enc if n_classes>1 else None)\n",
    "\n",
    "    print(\"Training student (PyTorch MLP)...\")\n",
    "    student_model, hist = train_student_torch(X_s_tr, soft_tr, X_s_val, soft_val, n_epochs=80, batch_size=64, lr=1e-3, temp=TEMP)\n",
    "    # Save student model\n",
    "    student_path = MODELS_DIR / f\"student_mlp_{timestamp}.pt\"\n",
    "    torch.save(student_model.state_dict(), student_path)\n",
    "    print(\"Saved student PyTorch model to:\", student_path)\n",
    "\n",
    "else:\n",
    "    print(\"PyTorch not available — falling back to LogisticRegression student (train on softened probabilities via multi-label regression approximation).\")\n",
    "    # We'll train LogisticRegression on hard labels but with teacher's soft labels as sample weights proxy is tricky.\n",
    "    # Simpler and robust: train LogisticRegression on original hard labels (this is a compact student baseline).\n",
    "    student_lr = Pipeline([\n",
    "        (\"scaler\", StandardScaler()),\n",
    "        (\"clf\", LogisticRegression(max_iter=2000, random_state=RANDOM_SEED))\n",
    "    ])\n",
    "    print(\"Training LogisticRegression student on hard labels...\")\n",
    "    student_lr.fit(X_train, y_train_enc)\n",
    "    student_path = MODELS_DIR / f\"student_logreg_{timestamp}.joblib\"\n",
    "    save_joblib(student_lr, student_path)\n"
   ]
  },
  {
   "cell_type": "code",
   "execution_count": 46,
   "id": "a2a859d8-78d0-4321-bfa4-8951eef11bea",
   "metadata": {},
   "outputs": [
    {
     "name": "stdout",
     "output_type": "stream",
     "text": [
      "Teacher — accuracy: 0.7690, f1_macro: 0.4983\n",
      "Student — accuracy: 0.7724, f1_macro: 0.6134\n",
      "Saved: C:\\Users\\alfiy\\ByteBuzz\\Notebooks\\reports\\distill_summary_20251017_231950.json\n",
      "Saved: C:\\Users\\alfiy\\ByteBuzz\\Notebooks\\reports\\distill_reports_20251017_231950.json\n"
     ]
    }
   ],
   "source": [
    "#Evaluate student & teacher on test set\n",
    "# Teacher metrics (already partially computed) — recompute for clarity\n",
    "teacher_probs_test = teacher_predict_proba(X_test)\n",
    "teacher_preds_test = np.argmax(teacher_probs_test, axis=1)\n",
    "teacher_acc = accuracy_score(y_test_enc, teacher_preds_test)\n",
    "teacher_f1 = f1_score(y_test_enc, teacher_preds_test, average='macro')\n",
    "\n",
    "# Student predictions\n",
    "if TORCH_AVAILABLE:\n",
    "    # load model into evaluation mode (we have model in memory)\n",
    "    device = torch.device(\"cuda\" if torch.cuda.is_available() else \"cpu\")\n",
    "    student_model.eval()\n",
    "    with torch.no_grad():\n",
    "        X_test_t = torch.tensor(X_test_scaled.values.astype(np.float32)).to(device)\n",
    "        logits = student_model(X_test_t)\n",
    "        student_probs = torch.softmax(logits, dim=1).cpu().numpy()\n",
    "    student_preds = np.argmax(student_probs, axis=1)\n",
    "    student_acc = accuracy_score(y_test_enc, student_preds)\n",
    "    student_f1 = f1_score(y_test_enc, student_preds, average='macro')\n",
    "else:\n",
    "    student_preds = student_lr.predict(X_test)\n",
    "    student_probs = student_lr.predict_proba(X_test)\n",
    "    student_acc = accuracy_score(y_test_enc, student_preds)\n",
    "    student_f1 = f1_score(y_test_enc, student_preds, average='macro')\n",
    "\n",
    "print(\"Teacher — accuracy: {:.4f}, f1_macro: {:.4f}\".format(teacher_acc, teacher_f1))\n",
    "print(\"Student — accuracy: {:.4f}, f1_macro: {:.4f}\".format(student_acc, student_f1))\n",
    "\n",
    "# Detailed reports\n",
    "teacher_report = classification_report(y_test_enc, teacher_preds_test, output_dict=True, zero_division=0)\n",
    "student_report = classification_report(y_test_enc, student_preds, output_dict=True, zero_division=0)\n",
    "\n",
    "# Save metrics and reports\n",
    "summary = {\n",
    "    \"timestamp\": timestamp,\n",
    "    \"n_classes\": n_classes,\n",
    "    \"temperature\": TEMP,\n",
    "    \"teacher_accuracy\": float(teacher_acc),\n",
    "    \"teacher_f1_macro\": float(teacher_f1),\n",
    "    \"student_accuracy\": float(student_acc),\n",
    "    \"student_f1_macro\": float(student_f1),\n",
    "    \"teacher_models\": list(teacher_models.keys()),\n",
    "    \"student_model_path\": str(student_path)\n",
    "}\n",
    "save_json(summary, REPORTS_DIR / f\"distill_summary_{timestamp}.json\")\n",
    "save_json({\"teacher_report\": teacher_report, \"student_report\": student_report}, REPORTS_DIR / f\"distill_reports_{timestamp}.json\")\n"
   ]
  },
  {
   "cell_type": "code",
   "execution_count": 47,
   "id": "4651ba56-23cd-418c-a634-46c56e854a06",
   "metadata": {},
   "outputs": [
    {
     "name": "stdout",
     "output_type": "stream",
     "text": [
      "Baseline LogReg on hard labels — acc: 0.7759, f1: 0.5977\n",
      "Saved: C:\\Users\\alfiy\\ByteBuzz\\Notebooks\\reports\\distill_summary_20251017_231950.json\n",
      "Saved: C:\\Users\\alfiy\\ByteBuzz\\Notebooks\\models\\baseline_logreg_20251017_231950.joblib\n"
     ]
    }
   ],
   "source": [
    "# Train a compact baseline student on hard labels (LogReg) for comparison if PyTorch was used for distilled student\n",
    "if TORCH_AVAILABLE:\n",
    "    baselog = LogisticRegression(max_iter=2000, random_state=RANDOM_SEED)\n",
    "    baselog.fit(X_train_scaled, y_train_enc)\n",
    "    base_preds = baselog.predict(X_test_scaled)\n",
    "    base_acc = accuracy_score(y_test_enc, base_preds)\n",
    "    base_f1 = f1_score(y_test_enc, base_preds, average='macro')\n",
    "    print(\"Baseline LogReg on hard labels — acc: {:.4f}, f1: {:.4f}\".format(base_acc, base_f1))\n",
    "    summary[\"baseline_logreg_accuracy\"] = float(base_acc)\n",
    "    summary[\"baseline_logreg_f1_macro\"] = float(base_f1)\n",
    "    save_json(summary, REPORTS_DIR / f\"distill_summary_{timestamp}.json\")\n",
    "    save_joblib(baselog, MODELS_DIR / f\"baseline_logreg_{timestamp}.joblib\")\n"
   ]
  },
  {
   "cell_type": "code",
   "execution_count": 49,
   "id": "120295ec-85df-4116-8207-3a36f4ecbd46",
   "metadata": {},
   "outputs": [
    {
     "data": {
      "image/png": "[encoded data removed]",
      "text/plain": [
       "<Figure size 600x400 with 1 Axes>"
      ]
     },
     "metadata": {},
     "output_type": "display_data"
    },
    {
     "data": {
      "text/html": [
       "<div>\n",
       "<style scoped>\n",
       "    .dataframe tbody tr th:only-of-type {\n",
       "        vertical-align: middle;\n",
       "    }\n",
       "\n",
       "    .dataframe tbody tr th {\n",
       "        vertical-align: top;\n",
       "    }\n",
       "\n",
       "    .dataframe thead th {\n",
       "        text-align: right;\n",
       "    }\n",
       "</style>\n",
       "<table border=\"1\" class=\"dataframe\">\n",
       "  <thead>\n",
       "    <tr style=\"text-align: right;\">\n",
       "      <th></th>\n",
       "      <th>model</th>\n",
       "      <th>accuracy</th>\n",
       "      <th>f1_macro</th>\n",
       "    </tr>\n",
       "  </thead>\n",
       "  <tbody>\n",
       "    <tr>\n",
       "      <th>0</th>\n",
       "      <td>teacher</td>\n",
       "      <td>0.768966</td>\n",
       "      <td>0.498335</td>\n",
       "    </tr>\n",
       "    <tr>\n",
       "      <th>1</th>\n",
       "      <td>student</td>\n",
       "      <td>0.772414</td>\n",
       "      <td>0.613365</td>\n",
       "    </tr>\n",
       "    <tr>\n",
       "      <th>2</th>\n",
       "      <td>baseline_logreg</td>\n",
       "      <td>0.775862</td>\n",
       "      <td>0.597661</td>\n",
       "    </tr>\n",
       "  </tbody>\n",
       "</table>\n",
       "</div>"
      ],
      "text/plain": [
       "             model  accuracy  f1_macro\n",
       "0          teacher  0.768966  0.498335\n",
       "1          student  0.772414  0.613365\n",
       "2  baseline_logreg  0.775862  0.597661"
      ]
     },
     "metadata": {},
     "output_type": "display_data"
    },
    {
     "data": {
      "image/png": "[encoded data removed]",
      "text/plain": [
       "<Figure size 800x400 with 1 Axes>"
      ]
     },
     "metadata": {},
     "output_type": "display_data"
    }
   ],
   "source": [
    "#visualization and analysis\n",
    "# Visualization and analysis\n",
    "import matplotlib.pyplot as plt\n",
    "\n",
    "# Student training loss history (if available)\n",
    "if TORCH_AVAILABLE and 'hist' in locals() and isinstance(hist, dict):\n",
    "    if \"train_loss\" in hist and \"val_loss\" in hist:\n",
    "        plt.figure(figsize=(6,4))\n",
    "        plt.plot(hist[\"train_loss\"], label=\"Train Loss\", color='steelblue')\n",
    "        plt.plot(hist[\"val_loss\"], label=\"Validation Loss\", color='orange')\n",
    "        plt.xlabel(\"Epoch\")\n",
    "        plt.ylabel(\"KL Loss\")\n",
    "        plt.title(\"Student Training Loss History\")\n",
    "        plt.legend()\n",
    "        plt.tight_layout()\n",
    "        plt.show()\n",
    "    else:\n",
    "        print(\"`hist` exists but missing train/val loss keys.\")\n",
    "else:\n",
    "    print(\" No `hist` data available — run the student training cell first.\")\n",
    "\n",
    "# Accuracy/F1 summary\n",
    "df_summary = pd.DataFrame([\n",
    "    {\"model\": \"teacher\", \"accuracy\": summary[\"teacher_accuracy\"], \"f1_macro\": summary[\"teacher_f1_macro\"]},\n",
    "    {\"model\": \"student\", \"accuracy\": summary[\"student_accuracy\"], \"f1_macro\": summary[\"student_f1_macro\"]},\n",
    "])\n",
    "if \"baseline_logreg_accuracy\" in summary:\n",
    "    df_summary = pd.concat([\n",
    "        df_summary,\n",
    "        pd.DataFrame([{\n",
    "            \"model\": \"baseline_logreg\",\n",
    "            \"accuracy\": summary[\"baseline_logreg_accuracy\"],\n",
    "            \"f1_macro\": summary[\"baseline_logreg_f1_macro\"]\n",
    "        }])\n",
    "    ], ignore_index=True)\n",
    "\n",
    "display(df_summary)\n",
    "\n",
    "# Optional: visualize prediction confidence histogram (student vs teacher)\n",
    "if TORCH_AVAILABLE and 'student_probs' in locals() and 'teacher_probs_test' in locals():\n",
    "    plt.figure(figsize=(8,4))\n",
    "    plt.hist(student_probs.max(axis=1), bins=20, alpha=0.6, label=\"Student\", color='skyblue')\n",
    "    plt.hist(teacher_probs_test.max(axis=1), bins=20, alpha=0.6, label=\"Teacher\", color='pink')\n",
    "    plt.title(\"Prediction Confidence Distribution\")\n",
    "    plt.xlabel(\"Max Probability\")\n",
    "    plt.ylabel(\"Frequency\")\n",
    "    plt.legend()\n",
    "    plt.tight_layout()\n",
    "    plt.show()\n"
   ]
  },
  {
   "cell_type": "code",
   "execution_count": null,
   "id": "c67adf25-2624-45f7-8045-5e5f4a8af59a",
   "metadata": {},
   "outputs": [],
   "source": []
  }
 ],
 "metadata": {
  "kernelspec": {
   "display_name": "Python 3 (ipykernel)",
   "language": "python",
   "name": "python3"
  },
  "language_info": {
   "codemirror_mode": {
    "name": "ipython",
    "version": 3
   },
   "file_extension": ".py",
   "mimetype": "text/x-python",
   "name": "python",
   "nbconvert_exporter": "python",
   "pygments_lexer": "ipython3",
   "version": "3.12.4"
  }
 },
 "nbformat": 4,
 "nbformat_minor": 5
}
